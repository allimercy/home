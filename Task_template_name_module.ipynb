{
  "nbformat": 4,
  "nbformat_minor": 0,
  "metadata": {
    "kernelspec": {
      "display_name": "Python 3",
      "language": "python",
      "name": "python3"
    },
    "language_info": {
      "codemirror_mode": {
        "name": "ipython",
        "version": 3
      },
      "file_extension": ".py",
      "mimetype": "text/x-python",
      "name": "python",
      "nbconvert_exporter": "python",
      "pygments_lexer": "ipython3",
      "version": "3.7.4"
    },
    "colab": {
      "name": "Task_template_name_module.ipynb",
      "provenance": [],
      "toc_visible": true,
      "include_colab_link": true
    }
  },
  "cells": [
    {
      "cell_type": "markdown",
      "metadata": {
        "id": "view-in-github",
        "colab_type": "text"
      },
      "source": [
        "<a href=\"https://colab.research.google.com/github/allimercy/home/blob/master/Task_template_name_module.ipynb\" target=\"_parent\"><img src=\"https://colab.research.google.com/assets/colab-badge.svg\" alt=\"Open In Colab\"/></a>"
      ]
    },
    {
      "cell_type": "markdown",
      "metadata": {
        "id": "cmipr5iSJVEA",
        "colab_type": "text"
      },
      "source": [
        "# Module 4 Guidance\n",
        "\n",
        "This notebook is a template for module 4b and 4c, which will be tested in Google Colab, your code needs to run there.\n",
        "The structure has been provided to improve consistency and make it easier for markers to understand your code but still give students the flexibility to be creative.  You need to populate the required functions to solve this problem.  All dependencies should be documented in the next cell.\n",
        "\n",
        "You can:\n",
        "    add further cells or text blocks to extend or further explain your solution\n",
        "    add further functions\n",
        "\n",
        "Dont:\n",
        "    rename functions\n",
        "   "
      ]
    },
    {
      "cell_type": "code",
      "metadata": {
        "id": "qL6UiUfuJVEB",
        "colab_type": "code",
        "colab": {
          "base_uri": "https://localhost:8080/",
          "height": 121
        },
        "outputId": "7c2f1169-6c77-4615-fbb8-91c90cdcce5b"
      },
      "source": [
        "# Fixed dependencies - do not remove or change.\n",
        "import pytest\n",
        "import pandas as pd\n",
        "import numpy as np\n",
        "from google.colab import drive\n",
        "drive.mount('/content/gdrive/')\n",
        "# Import your dependencies\n",
        "\n",
        "\n"
      ],
      "execution_count": null,
      "outputs": [
        {
          "output_type": "stream",
          "text": [
            "Go to this URL in a browser: https://accounts.google.com/o/oauth2/auth?client_id=947318989803-6bn6qk8qdgf4n4g3pfee6491hc0brc4i.apps.googleusercontent.com&redirect_uri=urn%3aietf%3awg%3aoauth%3a2.0%3aoob&response_type=code&scope=email%20https%3a%2f%2fwww.googleapis.com%2fauth%2fdocs.test%20https%3a%2f%2fwww.googleapis.com%2fauth%2fdrive%20https%3a%2f%2fwww.googleapis.com%2fauth%2fdrive.photos.readonly%20https%3a%2f%2fwww.googleapis.com%2fauth%2fpeopleapi.readonly\n",
            "\n",
            "Enter your authorization code:\n",
            "··········\n",
            "Mounted at /content/gdrive/\n"
          ],
          "name": "stdout"
        }
      ]
    },
    {
      "cell_type": "code",
      "metadata": {
        "id": "7p2Y6Qy9Rpha",
        "colab_type": "code",
        "colab": {
          "base_uri": "https://localhost:8080/",
          "height": 34
        },
        "outputId": "8fc5aaef-94d2-4b1c-a7b4-de1ff8f4f5ba"
      },
      "source": [
        "#Double-check with the !ls command whether the drive folder is properly mounted to colab.\n",
        "!ls\n"
      ],
      "execution_count": 17,
      "outputs": [
        {
          "output_type": "stream",
          "text": [
            "gdrive\tsample_data\n"
          ],
          "name": "stdout"
        }
      ]
    },
    {
      "cell_type": "code",
      "metadata": {
        "id": "1dL7B-ydJVEG",
        "colab_type": "code",
        "colab": {
          "base_uri": "https://localhost:8080/",
          "height": 343
        },
        "outputId": "316f05c5-69fa-40fa-fee5-7a052561d1da"
      },
      "source": [
        "# Import data\n",
        "\n",
        "#def import_local_data(file_path ):\n",
        "df_bonus = pd.read_csv( \"/content/gdrive/My Drive/BreastCancer1/breast-cancer.csv\")\n",
        "df_bonus.head(10)\n",
        "    \n",
        "\n",
        "\n",
        "    "
      ],
      "execution_count": 25,
      "outputs": [
        {
          "output_type": "execute_result",
          "data": {
            "text/html": [
              "<div>\n",
              "<style scoped>\n",
              "    .dataframe tbody tr th:only-of-type {\n",
              "        vertical-align: middle;\n",
              "    }\n",
              "\n",
              "    .dataframe tbody tr th {\n",
              "        vertical-align: top;\n",
              "    }\n",
              "\n",
              "    .dataframe thead th {\n",
              "        text-align: right;\n",
              "    }\n",
              "</style>\n",
              "<table border=\"1\" class=\"dataframe\">\n",
              "  <thead>\n",
              "    <tr style=\"text-align: right;\">\n",
              "      <th></th>\n",
              "      <th>age</th>\n",
              "      <th>menopause</th>\n",
              "      <th>tumor-size</th>\n",
              "      <th>inv-nodes</th>\n",
              "      <th>node-caps</th>\n",
              "      <th>deg-malig</th>\n",
              "      <th>breast</th>\n",
              "      <th>breast-quad</th>\n",
              "      <th>irradiat</th>\n",
              "      <th>Class</th>\n",
              "    </tr>\n",
              "  </thead>\n",
              "  <tbody>\n",
              "    <tr>\n",
              "      <th>0</th>\n",
              "      <td>40-49</td>\n",
              "      <td>premeno</td>\n",
              "      <td>15-19</td>\n",
              "      <td>0-2</td>\n",
              "      <td>yes</td>\n",
              "      <td>3</td>\n",
              "      <td>right</td>\n",
              "      <td>left_up</td>\n",
              "      <td>no</td>\n",
              "      <td>recurrence-events</td>\n",
              "    </tr>\n",
              "    <tr>\n",
              "      <th>1</th>\n",
              "      <td>50-59</td>\n",
              "      <td>ge40</td>\n",
              "      <td>15-19</td>\n",
              "      <td>0-2</td>\n",
              "      <td>no</td>\n",
              "      <td>1</td>\n",
              "      <td>right</td>\n",
              "      <td>central</td>\n",
              "      <td>no</td>\n",
              "      <td>no-recurrence-events</td>\n",
              "    </tr>\n",
              "    <tr>\n",
              "      <th>2</th>\n",
              "      <td>50-59</td>\n",
              "      <td>ge40</td>\n",
              "      <td>35-39</td>\n",
              "      <td>0-2</td>\n",
              "      <td>no</td>\n",
              "      <td>2</td>\n",
              "      <td>left</td>\n",
              "      <td>left_low</td>\n",
              "      <td>no</td>\n",
              "      <td>recurrence-events</td>\n",
              "    </tr>\n",
              "    <tr>\n",
              "      <th>3</th>\n",
              "      <td>40-49</td>\n",
              "      <td>premeno</td>\n",
              "      <td>35-39</td>\n",
              "      <td>0-2</td>\n",
              "      <td>yes</td>\n",
              "      <td>3</td>\n",
              "      <td>right</td>\n",
              "      <td>left_low</td>\n",
              "      <td>yes</td>\n",
              "      <td>no-recurrence-events</td>\n",
              "    </tr>\n",
              "    <tr>\n",
              "      <th>4</th>\n",
              "      <td>40-49</td>\n",
              "      <td>premeno</td>\n",
              "      <td>30-34</td>\n",
              "      <td>03-May</td>\n",
              "      <td>yes</td>\n",
              "      <td>2</td>\n",
              "      <td>left</td>\n",
              "      <td>right_up</td>\n",
              "      <td>no</td>\n",
              "      <td>recurrence-events</td>\n",
              "    </tr>\n",
              "    <tr>\n",
              "      <th>5</th>\n",
              "      <td>50-59</td>\n",
              "      <td>premeno</td>\n",
              "      <td>25-29</td>\n",
              "      <td>03-May</td>\n",
              "      <td>no</td>\n",
              "      <td>2</td>\n",
              "      <td>right</td>\n",
              "      <td>left_up</td>\n",
              "      <td>yes</td>\n",
              "      <td>no-recurrence-events</td>\n",
              "    </tr>\n",
              "    <tr>\n",
              "      <th>6</th>\n",
              "      <td>50-59</td>\n",
              "      <td>ge40</td>\n",
              "      <td>40-44</td>\n",
              "      <td>0-2</td>\n",
              "      <td>no</td>\n",
              "      <td>3</td>\n",
              "      <td>left</td>\n",
              "      <td>left_up</td>\n",
              "      <td>no</td>\n",
              "      <td>no-recurrence-events</td>\n",
              "    </tr>\n",
              "    <tr>\n",
              "      <th>7</th>\n",
              "      <td>40-49</td>\n",
              "      <td>premeno</td>\n",
              "      <td>Oct-14</td>\n",
              "      <td>0-2</td>\n",
              "      <td>no</td>\n",
              "      <td>2</td>\n",
              "      <td>left</td>\n",
              "      <td>left_up</td>\n",
              "      <td>no</td>\n",
              "      <td>no-recurrence-events</td>\n",
              "    </tr>\n",
              "    <tr>\n",
              "      <th>8</th>\n",
              "      <td>40-49</td>\n",
              "      <td>premeno</td>\n",
              "      <td>0-4</td>\n",
              "      <td>0-2</td>\n",
              "      <td>no</td>\n",
              "      <td>2</td>\n",
              "      <td>right</td>\n",
              "      <td>right_low</td>\n",
              "      <td>no</td>\n",
              "      <td>no-recurrence-events</td>\n",
              "    </tr>\n",
              "    <tr>\n",
              "      <th>9</th>\n",
              "      <td>40-49</td>\n",
              "      <td>ge40</td>\n",
              "      <td>40-44</td>\n",
              "      <td>15-17</td>\n",
              "      <td>yes</td>\n",
              "      <td>2</td>\n",
              "      <td>right</td>\n",
              "      <td>left_up</td>\n",
              "      <td>yes</td>\n",
              "      <td>no-recurrence-events</td>\n",
              "    </tr>\n",
              "  </tbody>\n",
              "</table>\n",
              "</div>"
            ],
            "text/plain": [
              "     age menopause tumor-size  ... breast-quad irradiat                 Class\n",
              "0  40-49   premeno      15-19  ...     left_up       no     recurrence-events\n",
              "1  50-59      ge40      15-19  ...     central       no  no-recurrence-events\n",
              "2  50-59      ge40      35-39  ...    left_low       no     recurrence-events\n",
              "3  40-49   premeno      35-39  ...    left_low      yes  no-recurrence-events\n",
              "4  40-49   premeno      30-34  ...    right_up       no     recurrence-events\n",
              "5  50-59   premeno      25-29  ...     left_up      yes  no-recurrence-events\n",
              "6  50-59      ge40      40-44  ...     left_up       no  no-recurrence-events\n",
              "7  40-49   premeno     Oct-14  ...     left_up       no  no-recurrence-events\n",
              "8  40-49   premeno        0-4  ...   right_low       no  no-recurrence-events\n",
              "9  40-49      ge40      40-44  ...     left_up      yes  no-recurrence-events\n",
              "\n",
              "[10 rows x 10 columns]"
            ]
          },
          "metadata": {
            "tags": []
          },
          "execution_count": 25
        }
      ]
    },
    {
      "cell_type": "code",
      "metadata": {
        "id": "qSiWRthiJVEJ",
        "colab_type": "code",
        "colab": {}
      },
      "source": [
        "local_file_path = \"the_path_to_the_file_on_your_pc\""
      ],
      "execution_count": null,
      "outputs": []
    },
    {
      "cell_type": "code",
      "metadata": {
        "id": "s5Kmk4aOJVEN",
        "colab_type": "code",
        "colab": {}
      },
      "source": [
        "# Dont change\n",
        "raw_data = import_local_data(local_file_path)"
      ],
      "execution_count": null,
      "outputs": []
    },
    {
      "cell_type": "markdown",
      "metadata": {
        "id": "RcU9FrsHJVER",
        "colab_type": "text"
      },
      "source": [
        "### Conduct exploratory data analysis and explain your key findings - Examine the data, explain its key features and what they look like.  Highlight any fields that are anomalous."
      ]
    },
    {
      "cell_type": "code",
      "metadata": {
        "id": "356vn9frJVER",
        "colab_type": "code",
        "colab": {}
      },
      "source": [
        ""
      ],
      "execution_count": null,
      "outputs": []
    },
    {
      "cell_type": "code",
      "metadata": {
        "id": "9t2qQ8DxJVEV",
        "colab_type": "code",
        "colab": {}
      },
      "source": [
        "# Explain your key findings"
      ],
      "execution_count": null,
      "outputs": []
    },
    {
      "cell_type": "code",
      "metadata": {
        "id": "eBADdHgUJVEY",
        "colab_type": "code",
        "colab": {}
      },
      "source": [
        ""
      ],
      "execution_count": null,
      "outputs": []
    },
    {
      "cell_type": "markdown",
      "metadata": {
        "id": "H2JLZHZsJVEc",
        "colab_type": "text"
      },
      "source": [
        "Create any data pre-processing that you will conduct on seen and unseen data.  Regardless of the model you use, this dataframe must contain only numeric features and have a strategy for any expected missing values. Any objects can that are needed to handle the test data that are dependent on the training data can be stored in the model class.  You are recommended to use sklearn Pipelines or similar functionality to ensure reproduccibility."
      ]
    },
    {
      "cell_type": "code",
      "metadata": {
        "id": "LQfUp2RyJVEd",
        "colab_type": "code",
        "colab": {}
      },
      "source": [
        "# Split your data so that you can test the effectiveness of your model"
      ],
      "execution_count": null,
      "outputs": []
    },
    {
      "cell_type": "code",
      "metadata": {
        "id": "dssThR8wJVEh",
        "colab_type": "code",
        "colab": {}
      },
      "source": [
        "# Populate preprocess_training_data and preprocess_test_data to preprocess data.\n",
        "# You nmust process test and train separately so your model does not accidently gain information that a model wouldnt have in reality and therefore get better predictions"
      ],
      "execution_count": null,
      "outputs": []
    },
    {
      "cell_type": "code",
      "metadata": {
        "id": "T1rGZ2oYJVEk",
        "colab_type": "code",
        "colab": {}
      },
      "source": [
        "class Module4_Model:\n",
        "    \n",
        "    def __init__(self):\n",
        "        self.model = None\n",
        "        \n",
        "    def preprocess_training_data(self, training_df):\n",
        "        \"\"\"\n",
        "        This function should process the training data and store any features required in the class\n",
        "        \"\"\"\n",
        "        return processed_df\n",
        "\n",
        "    def preprocess_test_data(self, test_df):\n",
        "\n",
        "        return processed_df\n",
        "\n"
      ],
      "execution_count": null,
      "outputs": []
    },
    {
      "cell_type": "code",
      "metadata": {
        "id": "IL6BfAQFJVEn",
        "colab_type": "code",
        "colab": {}
      },
      "source": [
        "# Dont change\n",
        "my_model = Module4_Model()"
      ],
      "execution_count": null,
      "outputs": []
    },
    {
      "cell_type": "code",
      "metadata": {
        "id": "PkifEKtfJVEr",
        "colab_type": "code",
        "colab": {}
      },
      "source": [
        "# Dont change\n",
        "x_train_processed = my_model.preprocess_training_data(x_train)"
      ],
      "execution_count": null,
      "outputs": []
    },
    {
      "cell_type": "code",
      "metadata": {
        "id": "l-lVvOmPJVEz",
        "colab_type": "code",
        "colab": {}
      },
      "source": [
        "# Create a model"
      ],
      "execution_count": null,
      "outputs": []
    },
    {
      "cell_type": "code",
      "metadata": {
        "id": "1DpPC032JVE3",
        "colab_type": "code",
        "colab": {}
      },
      "source": [
        ""
      ],
      "execution_count": null,
      "outputs": []
    },
    {
      "cell_type": "code",
      "metadata": {
        "id": "9EbcukMyJVE6",
        "colab_type": "code",
        "colab": {}
      },
      "source": [
        "# Dont change\n",
        "x_test_processed = my_model.preprocess_test_data(x_test)"
      ],
      "execution_count": null,
      "outputs": []
    },
    {
      "cell_type": "code",
      "metadata": {
        "id": "i_n6UZqxJVE9",
        "colab_type": "code",
        "colab": {}
      },
      "source": [
        "# Train your model"
      ],
      "execution_count": null,
      "outputs": []
    },
    {
      "cell_type": "code",
      "metadata": {
        "id": "ty6TRb06JVFA",
        "colab_type": "code",
        "colab": {}
      },
      "source": [
        ""
      ],
      "execution_count": null,
      "outputs": []
    },
    {
      "cell_type": "code",
      "metadata": {
        "id": "A3dWKWg-JVFG",
        "colab_type": "code",
        "colab": {}
      },
      "source": [
        "# use your model to make a prediction on unseen data"
      ],
      "execution_count": null,
      "outputs": []
    },
    {
      "cell_type": "code",
      "metadata": {
        "id": "E7xdDVKKJVFJ",
        "colab_type": "code",
        "colab": {}
      },
      "source": [
        ""
      ],
      "execution_count": null,
      "outputs": []
    },
    {
      "cell_type": "code",
      "metadata": {
        "id": "-AGhy99IJVFL",
        "colab_type": "code",
        "colab": {}
      },
      "source": [
        "# Asssess the accuracy of your model and explain your key findings"
      ],
      "execution_count": null,
      "outputs": []
    },
    {
      "cell_type": "code",
      "metadata": {
        "id": "Wj1oUnYrJVFO",
        "colab_type": "code",
        "colab": {}
      },
      "source": [
        ""
      ],
      "execution_count": null,
      "outputs": []
    }
  ]
}